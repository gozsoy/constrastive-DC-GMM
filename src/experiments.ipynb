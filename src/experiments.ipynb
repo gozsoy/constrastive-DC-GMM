{
 "cells": [
  {
   "cell_type": "code",
   "execution_count": 4,
   "metadata": {},
   "outputs": [],
   "source": [
    "import tensorflow as tf\n",
    "import tensorflow.keras as tfk\n",
    "import tensorflow.keras.layers as tfkl\n",
    "import tensorflow_probability as tfp\n",
    "import matplotlib.pyplot as plt\n",
    "import scipy.io as scio\n",
    "import ssl\n",
    "ssl._create_default_https_context = ssl._create_unverified_context"
   ]
  },
  {
   "cell_type": "code",
   "execution_count": 3,
   "metadata": {},
   "outputs": [],
   "source": [
    "import torchvision\n",
    "import torch.nn as nn\n",
    "from torch.utils.data import TensorDataset, DataLoader, Dataset\n",
    "import torch"
   ]
  },
  {
   "cell_type": "code",
   "execution_count": 37,
   "metadata": {},
   "outputs": [
    {
     "data": {
      "text/plain": [
       "\"image_train = X.astype('float32')/255\\nimage_train[:,0,:,:] = (image_train[:,0,:,:] - 0.485)/0.229\\nimage_train[:,1,:,:] = (image_train[:,1,:,:] - 0.456)/0.224\\nimage_train[:,2,:,:] = (image_train[:,2,:,:] - 0.406)/0.225\\nlabel_train = Y.astype('float32')-1\\n\\nimage_train = torch.from_numpy(image_train)\""
      ]
     },
     "execution_count": 37,
     "metadata": {},
     "output_type": "execute_result"
    }
   ],
   "source": [
    "import numpy as np\n",
    "\n",
    "path = '../dataset/stl10/stl10_matlab/'\n",
    "data=scio.loadmat(path+'train.mat')\n",
    "train_X = data['X']\n",
    "train_Y = data['y'].squeeze()\n",
    "data=scio.loadmat(path+'test.mat')\n",
    "test_X = data['X']\n",
    "test_Y = data['y'].squeeze()\n",
    "X = []\n",
    "Y = []\n",
    "X.append(train_X)\n",
    "X.append(test_X)\n",
    "Y.append(train_Y)\n",
    "Y.append(test_Y)\n",
    "X = np.concatenate(X,axis=0)\n",
    "Y = np.concatenate(Y,axis=0)\n",
    "X = np.reshape(X,(-1,3,96,96))\n",
    "X = np.transpose(X,(0,1,3,2))\n",
    "X = np.transpose(X,(0,2,3,1))\n",
    "'''image_train = X.astype('float32')/255\n",
    "image_train[:,0,:,:] = (image_train[:,0,:,:] - 0.485)/0.229\n",
    "image_train[:,1,:,:] = (image_train[:,1,:,:] - 0.456)/0.224\n",
    "image_train[:,2,:,:] = (image_train[:,2,:,:] - 0.406)/0.225\n",
    "label_train = Y.astype('float32')-1\n",
    "\n",
    "image_train = torch.from_numpy(image_train)'''"
   ]
  },
  {
   "cell_type": "code",
   "execution_count": 38,
   "metadata": {},
   "outputs": [
    {
     "data": {
      "text/plain": [
       "(13000, 96, 96, 3)"
      ]
     },
     "execution_count": 38,
     "metadata": {},
     "output_type": "execute_result"
    }
   ],
   "source": [
    "X.shape"
   ]
  },
  {
   "cell_type": "code",
   "execution_count": 40,
   "metadata": {},
   "outputs": [],
   "source": [
    "inputs = tf.keras.Input(X.shape[1:])\n",
    "x = tf.keras.applications.imagenet_utils.preprocess_input(inputs, data_format='channels_last', mode='torch')\n",
    "outputs = tf.keras.applications.ResNet50(include_top=False, weights = 'imagenet', pooling='avg')(x)\n",
    "feature_extractor = tf.keras.Model(inputs=inputs, outputs=outputs)"
   ]
  },
  {
   "cell_type": "code",
   "execution_count": 42,
   "metadata": {},
   "outputs": [],
   "source": [
    "path = '../dataset/stl10/stl10_matlab/'\n",
    "data=scio.loadmat(path+'train.mat')\n",
    "x_train = data['X']\n",
    "y_train = data['y'].squeeze()\n",
    "data=scio.loadmat(path+'test.mat')\n",
    "x_test = data['X']\n",
    "y_test = data['y'].squeeze()\n",
    "X = []\n",
    "Y = []\n",
    "X.append(x_train)\n",
    "X.append(x_test)\n",
    "Y.append(y_train)\n",
    "Y.append(y_test)\n",
    "X = np.concatenate(X,axis=0)\n",
    "Y = np.concatenate(Y,axis=0)"
   ]
  },
  {
   "cell_type": "code",
   "execution_count": 46,
   "metadata": {},
   "outputs": [],
   "source": [
    "from sklearn.model_selection import train_test_split\n",
    "x_train, x_test, y_train, y_test = train_test_split(X, Y, test_size=0.2, random_state=3)"
   ]
  }
 ],
 "metadata": {
  "interpreter": {
   "hash": "6428c71344d18f3e37e388ea5717ee401b4180cf156c6d3bf9d292527beb9c57"
  },
  "kernelspec": {
   "display_name": "Python 3.8.8 ('semester_project': venv)",
   "language": "python",
   "name": "python3"
  },
  "language_info": {
   "codemirror_mode": {
    "name": "ipython",
    "version": 3
   },
   "file_extension": ".py",
   "mimetype": "text/x-python",
   "name": "python",
   "nbconvert_exporter": "python",
   "pygments_lexer": "ipython3",
   "version": "3.8.8"
  },
  "orig_nbformat": 4
 },
 "nbformat": 4,
 "nbformat_minor": 2
}
